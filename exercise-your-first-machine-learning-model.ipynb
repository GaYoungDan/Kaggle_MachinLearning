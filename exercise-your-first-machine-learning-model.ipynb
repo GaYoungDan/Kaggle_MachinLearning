{
 "cells": [
  {
   "cell_type": "markdown",
   "id": "6b259603",
   "metadata": {
    "papermill": {
     "duration": 0.005614,
     "end_time": "2022-11-18T18:15:27.697430",
     "exception": false,
     "start_time": "2022-11-18T18:15:27.691816",
     "status": "completed"
    },
    "tags": []
   },
   "source": [
    "**This notebook is an exercise in the [Introduction to Machine Learning](https://www.kaggle.com/learn/intro-to-machine-learning) course.  You can reference the tutorial at [this link](https://www.kaggle.com/dansbecker/your-first-machine-learning-model).**\n",
    "\n",
    "---\n"
   ]
  },
  {
   "cell_type": "markdown",
   "id": "6d57309b",
   "metadata": {
    "papermill": {
     "duration": 0.004398,
     "end_time": "2022-11-18T18:15:27.706738",
     "exception": false,
     "start_time": "2022-11-18T18:15:27.702340",
     "status": "completed"
    },
    "tags": []
   },
   "source": [
    "## Recap\n",
    "So far, you have loaded your data and reviewed it with the following code. Run this cell to set up your coding environment where the previous step left off."
   ]
  },
  {
   "cell_type": "code",
   "execution_count": 1,
   "id": "3dba1a78",
   "metadata": {
    "execution": {
     "iopub.execute_input": "2022-11-18T18:15:27.718831Z",
     "iopub.status.busy": "2022-11-18T18:15:27.717617Z",
     "iopub.status.idle": "2022-11-18T18:15:28.842235Z",
     "shell.execute_reply": "2022-11-18T18:15:28.841202Z"
    },
    "papermill": {
     "duration": 1.133841,
     "end_time": "2022-11-18T18:15:28.845158",
     "exception": false,
     "start_time": "2022-11-18T18:15:27.711317",
     "status": "completed"
    },
    "tags": []
   },
   "outputs": [
    {
     "name": "stdout",
     "output_type": "stream",
     "text": [
      "Setup Complete\n"
     ]
    }
   ],
   "source": [
    "# Code you have previously used to load data\n",
    "import pandas as pd\n",
    "\n",
    "# Path of the file to read\n",
    "iowa_file_path = '../input/home-data-for-ml-course/train.csv'\n",
    "\n",
    "home_data = pd.read_csv(iowa_file_path)\n",
    "\n",
    "# Set up code checking\n",
    "from learntools.core import binder\n",
    "binder.bind(globals())\n",
    "from learntools.machine_learning.ex3 import *\n",
    "\n",
    "print(\"Setup Complete\")"
   ]
  },
  {
   "cell_type": "markdown",
   "id": "918b8cd3",
   "metadata": {
    "papermill": {
     "duration": 0.004269,
     "end_time": "2022-11-18T18:15:28.854676",
     "exception": false,
     "start_time": "2022-11-18T18:15:28.850407",
     "status": "completed"
    },
    "tags": []
   },
   "source": [
    "# Exercises\n",
    "\n",
    "## Step 1: Specify Prediction Target\n",
    "Select the target variable, which corresponds to the sales price. Save this to a new variable called `y`. You'll need to print a list of the columns to find the name of the column you need.\n"
   ]
  },
  {
   "cell_type": "code",
   "execution_count": 2,
   "id": "97a4e624",
   "metadata": {
    "execution": {
     "iopub.execute_input": "2022-11-18T18:15:28.865405Z",
     "iopub.status.busy": "2022-11-18T18:15:28.865090Z",
     "iopub.status.idle": "2022-11-18T18:15:28.870665Z",
     "shell.execute_reply": "2022-11-18T18:15:28.869686Z"
    },
    "papermill": {
     "duration": 0.013932,
     "end_time": "2022-11-18T18:15:28.873244",
     "exception": false,
     "start_time": "2022-11-18T18:15:28.859312",
     "status": "completed"
    },
    "tags": []
   },
   "outputs": [
    {
     "name": "stdout",
     "output_type": "stream",
     "text": [
      "Index(['Id', 'MSSubClass', 'MSZoning', 'LotFrontage', 'LotArea', 'Street',\n",
      "       'Alley', 'LotShape', 'LandContour', 'Utilities', 'LotConfig',\n",
      "       'LandSlope', 'Neighborhood', 'Condition1', 'Condition2', 'BldgType',\n",
      "       'HouseStyle', 'OverallQual', 'OverallCond', 'YearBuilt', 'YearRemodAdd',\n",
      "       'RoofStyle', 'RoofMatl', 'Exterior1st', 'Exterior2nd', 'MasVnrType',\n",
      "       'MasVnrArea', 'ExterQual', 'ExterCond', 'Foundation', 'BsmtQual',\n",
      "       'BsmtCond', 'BsmtExposure', 'BsmtFinType1', 'BsmtFinSF1',\n",
      "       'BsmtFinType2', 'BsmtFinSF2', 'BsmtUnfSF', 'TotalBsmtSF', 'Heating',\n",
      "       'HeatingQC', 'CentralAir', 'Electrical', '1stFlrSF', '2ndFlrSF',\n",
      "       'LowQualFinSF', 'GrLivArea', 'BsmtFullBath', 'BsmtHalfBath', 'FullBath',\n",
      "       'HalfBath', 'BedroomAbvGr', 'KitchenAbvGr', 'KitchenQual',\n",
      "       'TotRmsAbvGrd', 'Functional', 'Fireplaces', 'FireplaceQu', 'GarageType',\n",
      "       'GarageYrBlt', 'GarageFinish', 'GarageCars', 'GarageArea', 'GarageQual',\n",
      "       'GarageCond', 'PavedDrive', 'WoodDeckSF', 'OpenPorchSF',\n",
      "       'EnclosedPorch', '3SsnPorch', 'ScreenPorch', 'PoolArea', 'PoolQC',\n",
      "       'Fence', 'MiscFeature', 'MiscVal', 'MoSold', 'YrSold', 'SaleType',\n",
      "       'SaleCondition', 'SalePrice'],\n",
      "      dtype='object')\n"
     ]
    }
   ],
   "source": [
    "# print the list of columns in the dataset to find the name of the prediction target\n",
    "print(home_data.columns)"
   ]
  },
  {
   "cell_type": "code",
   "execution_count": 3,
   "id": "28aeb5e4",
   "metadata": {
    "execution": {
     "iopub.execute_input": "2022-11-18T18:15:28.884862Z",
     "iopub.status.busy": "2022-11-18T18:15:28.884072Z",
     "iopub.status.idle": "2022-11-18T18:15:28.896816Z",
     "shell.execute_reply": "2022-11-18T18:15:28.895959Z"
    },
    "papermill": {
     "duration": 0.020295,
     "end_time": "2022-11-18T18:15:28.898936",
     "exception": false,
     "start_time": "2022-11-18T18:15:28.878641",
     "status": "completed"
    },
    "tags": []
   },
   "outputs": [
    {
     "data": {
      "application/javascript": [
       "parent.postMessage({\"jupyterEvent\": \"custom.exercise_interaction\", \"data\": {\"outcomeType\": 1, \"valueTowardsCompletion\": 0.25, \"interactionType\": 1, \"questionType\": 2, \"questionId\": \"1_SetTarget\", \"learnToolsVersion\": \"0.3.4\", \"failureMessage\": \"\", \"exceptionClass\": \"\", \"trace\": \"\"}}, \"*\")"
      ],
      "text/plain": [
       "<IPython.core.display.Javascript object>"
      ]
     },
     "metadata": {},
     "output_type": "display_data"
    },
    {
     "data": {
      "text/markdown": [
       "<span style=\"color:#33cc33\">Correct</span>"
      ],
      "text/plain": [
       "Correct"
      ]
     },
     "metadata": {},
     "output_type": "display_data"
    }
   ],
   "source": [
    "y = home_data.SalePrice\n",
    "\n",
    "# Check your answer\n",
    "step_1.check()"
   ]
  },
  {
   "cell_type": "code",
   "execution_count": 4,
   "id": "2057f5e0",
   "metadata": {
    "execution": {
     "iopub.execute_input": "2022-11-18T18:15:28.909724Z",
     "iopub.status.busy": "2022-11-18T18:15:28.909349Z",
     "iopub.status.idle": "2022-11-18T18:15:28.913739Z",
     "shell.execute_reply": "2022-11-18T18:15:28.912773Z"
    },
    "papermill": {
     "duration": 0.012169,
     "end_time": "2022-11-18T18:15:28.915601",
     "exception": false,
     "start_time": "2022-11-18T18:15:28.903432",
     "status": "completed"
    },
    "tags": []
   },
   "outputs": [],
   "source": [
    "# The lines below will show you a hint or the solution.\n",
    "# step_1.hint() \n",
    "# step_1.solution()"
   ]
  },
  {
   "cell_type": "markdown",
   "id": "0cd0c577",
   "metadata": {
    "papermill": {
     "duration": 0.004536,
     "end_time": "2022-11-18T18:15:28.925229",
     "exception": false,
     "start_time": "2022-11-18T18:15:28.920693",
     "status": "completed"
    },
    "tags": []
   },
   "source": [
    "## Step 2: Create X\n",
    "Now you will create a DataFrame called `X` holding the predictive features.\n",
    "\n",
    "Since you want only some columns from the original data, you'll first create a list with the names of the columns you want in `X`.\n",
    "\n",
    "You'll use just the following columns in the list (you can copy and paste the whole list to save some typing, though you'll still need to add quotes):\n",
    "  * LotArea\n",
    "  * YearBuilt\n",
    "  * 1stFlrSF\n",
    "  * 2ndFlrSF\n",
    "  * FullBath\n",
    "  * BedroomAbvGr\n",
    "  * TotRmsAbvGrd\n",
    "\n",
    "After you've created that list of features, use it to create the DataFrame that you'll use to fit the model."
   ]
  },
  {
   "cell_type": "code",
   "execution_count": 5,
   "id": "c113aace",
   "metadata": {
    "execution": {
     "iopub.execute_input": "2022-11-18T18:15:28.937617Z",
     "iopub.status.busy": "2022-11-18T18:15:28.937216Z",
     "iopub.status.idle": "2022-11-18T18:15:28.948993Z",
     "shell.execute_reply": "2022-11-18T18:15:28.948116Z"
    },
    "papermill": {
     "duration": 0.020586,
     "end_time": "2022-11-18T18:15:28.950764",
     "exception": false,
     "start_time": "2022-11-18T18:15:28.930178",
     "status": "completed"
    },
    "tags": []
   },
   "outputs": [
    {
     "data": {
      "application/javascript": [
       "parent.postMessage({\"jupyterEvent\": \"custom.exercise_interaction\", \"data\": {\"outcomeType\": 1, \"valueTowardsCompletion\": 0.25, \"interactionType\": 1, \"questionType\": 2, \"questionId\": \"2_SelectPredictionData\", \"learnToolsVersion\": \"0.3.4\", \"failureMessage\": \"\", \"exceptionClass\": \"\", \"trace\": \"\"}}, \"*\")"
      ],
      "text/plain": [
       "<IPython.core.display.Javascript object>"
      ]
     },
     "metadata": {},
     "output_type": "display_data"
    },
    {
     "data": {
      "text/markdown": [
       "<span style=\"color:#33cc33\">Correct</span>"
      ],
      "text/plain": [
       "Correct"
      ]
     },
     "metadata": {},
     "output_type": "display_data"
    }
   ],
   "source": [
    "# Create the list of features below\n",
    "feature_names = ['LotArea','YearBuilt','1stFlrSF','2ndFlrSF','FullBath','BedroomAbvGr','TotRmsAbvGrd']\n",
    "\n",
    "# Select data corresponding to features in feature_names\n",
    "X = home_data[feature_names]\n",
    "\n",
    "# Check your answer\n",
    "step_2.check()"
   ]
  },
  {
   "cell_type": "code",
   "execution_count": 6,
   "id": "6b75db34",
   "metadata": {
    "execution": {
     "iopub.execute_input": "2022-11-18T18:15:28.962167Z",
     "iopub.status.busy": "2022-11-18T18:15:28.961887Z",
     "iopub.status.idle": "2022-11-18T18:15:28.965532Z",
     "shell.execute_reply": "2022-11-18T18:15:28.964621Z"
    },
    "papermill": {
     "duration": 0.011716,
     "end_time": "2022-11-18T18:15:28.967440",
     "exception": false,
     "start_time": "2022-11-18T18:15:28.955724",
     "status": "completed"
    },
    "tags": []
   },
   "outputs": [],
   "source": [
    "# step_2.hint()\n",
    "# step_2.solution()"
   ]
  },
  {
   "cell_type": "markdown",
   "id": "8861a80f",
   "metadata": {
    "papermill": {
     "duration": 0.004499,
     "end_time": "2022-11-18T18:15:28.976834",
     "exception": false,
     "start_time": "2022-11-18T18:15:28.972335",
     "status": "completed"
    },
    "tags": []
   },
   "source": [
    "## Review Data\n",
    "Before building a model, take a quick look at **X** to verify it looks sensible"
   ]
  },
  {
   "cell_type": "code",
   "execution_count": 7,
   "id": "6c9ac5f7",
   "metadata": {
    "execution": {
     "iopub.execute_input": "2022-11-18T18:15:28.988346Z",
     "iopub.status.busy": "2022-11-18T18:15:28.987756Z",
     "iopub.status.idle": "2022-11-18T18:15:28.991907Z",
     "shell.execute_reply": "2022-11-18T18:15:28.990946Z"
    },
    "papermill": {
     "duration": 0.011986,
     "end_time": "2022-11-18T18:15:28.993853",
     "exception": false,
     "start_time": "2022-11-18T18:15:28.981867",
     "status": "completed"
    },
    "tags": []
   },
   "outputs": [],
   "source": [
    "# Review data\n",
    "# print description or statistics from X\n",
    "#print(_)\n",
    "\n",
    "# print the top few lines\n",
    "#print(_)"
   ]
  },
  {
   "cell_type": "markdown",
   "id": "579c36fe",
   "metadata": {
    "papermill": {
     "duration": 0.004676,
     "end_time": "2022-11-18T18:15:29.003585",
     "exception": false,
     "start_time": "2022-11-18T18:15:28.998909",
     "status": "completed"
    },
    "tags": []
   },
   "source": [
    "## Step 3: Specify and Fit Model\n",
    "Create a `DecisionTreeRegressor` and save it iowa_model. Ensure you've done the relevant import from sklearn to run this command.\n",
    "\n",
    "Then fit the model you just created using the data in `X` and `y` that you saved above."
   ]
  },
  {
   "cell_type": "code",
   "execution_count": 8,
   "id": "b125a5f1",
   "metadata": {
    "execution": {
     "iopub.execute_input": "2022-11-18T18:15:29.014987Z",
     "iopub.status.busy": "2022-11-18T18:15:29.014599Z",
     "iopub.status.idle": "2022-11-18T18:15:29.032300Z",
     "shell.execute_reply": "2022-11-18T18:15:29.031367Z"
    },
    "papermill": {
     "duration": 0.0256,
     "end_time": "2022-11-18T18:15:29.034285",
     "exception": false,
     "start_time": "2022-11-18T18:15:29.008685",
     "status": "completed"
    },
    "tags": []
   },
   "outputs": [
    {
     "data": {
      "application/javascript": [
       "parent.postMessage({\"jupyterEvent\": \"custom.exercise_interaction\", \"data\": {\"outcomeType\": 1, \"valueTowardsCompletion\": 0.25, \"interactionType\": 1, \"questionType\": 2, \"questionId\": \"3_CreateModel\", \"learnToolsVersion\": \"0.3.4\", \"failureMessage\": \"\", \"exceptionClass\": \"\", \"trace\": \"\"}}, \"*\")"
      ],
      "text/plain": [
       "<IPython.core.display.Javascript object>"
      ]
     },
     "metadata": {},
     "output_type": "display_data"
    },
    {
     "data": {
      "text/markdown": [
       "<span style=\"color:#33cc33\">Correct</span>"
      ],
      "text/plain": [
       "Correct"
      ]
     },
     "metadata": {},
     "output_type": "display_data"
    }
   ],
   "source": [
    "from sklearn.tree import DecisionTreeRegressor\n",
    "#specify the model. \n",
    "#For model reproducibility, set a numeric value for random_state when specifying the model\n",
    "iowa_model = DecisionTreeRegressor(random_state=1)\n",
    "\n",
    "# Fit the model\n",
    "iowa_model.fit(X,y)\n",
    "\n",
    "# Check your answer\n",
    "step_3.check()"
   ]
  },
  {
   "cell_type": "code",
   "execution_count": 9,
   "id": "68397e34",
   "metadata": {
    "execution": {
     "iopub.execute_input": "2022-11-18T18:15:29.046242Z",
     "iopub.status.busy": "2022-11-18T18:15:29.045909Z",
     "iopub.status.idle": "2022-11-18T18:15:29.049808Z",
     "shell.execute_reply": "2022-11-18T18:15:29.048907Z"
    },
    "papermill": {
     "duration": 0.011975,
     "end_time": "2022-11-18T18:15:29.051753",
     "exception": false,
     "start_time": "2022-11-18T18:15:29.039778",
     "status": "completed"
    },
    "tags": []
   },
   "outputs": [],
   "source": [
    "#step_3.hint()\n",
    "#step_3.solution()"
   ]
  },
  {
   "cell_type": "markdown",
   "id": "3931980f",
   "metadata": {
    "papermill": {
     "duration": 0.00499,
     "end_time": "2022-11-18T18:15:29.061910",
     "exception": false,
     "start_time": "2022-11-18T18:15:29.056920",
     "status": "completed"
    },
    "tags": []
   },
   "source": [
    "## Step 4: Make Predictions\n",
    "Make predictions with the model's `predict` command using `X` as the data. Save the results to a variable called `predictions`."
   ]
  },
  {
   "cell_type": "code",
   "execution_count": 10,
   "id": "2fcfe561",
   "metadata": {
    "execution": {
     "iopub.execute_input": "2022-11-18T18:15:29.074822Z",
     "iopub.status.busy": "2022-11-18T18:15:29.074520Z",
     "iopub.status.idle": "2022-11-18T18:15:29.088033Z",
     "shell.execute_reply": "2022-11-18T18:15:29.086551Z"
    },
    "papermill": {
     "duration": 0.023075,
     "end_time": "2022-11-18T18:15:29.090226",
     "exception": false,
     "start_time": "2022-11-18T18:15:29.067151",
     "status": "completed"
    },
    "tags": []
   },
   "outputs": [
    {
     "name": "stdout",
     "output_type": "stream",
     "text": [
      "[208500. 181500. 223500. ... 266500. 142125. 147500.]\n"
     ]
    },
    {
     "data": {
      "application/javascript": [
       "parent.postMessage({\"jupyterEvent\": \"custom.exercise_interaction\", \"data\": {\"outcomeType\": 1, \"valueTowardsCompletion\": 0.25, \"interactionType\": 1, \"questionType\": 2, \"questionId\": \"4_MakePredictions\", \"learnToolsVersion\": \"0.3.4\", \"failureMessage\": \"\", \"exceptionClass\": \"\", \"trace\": \"\"}}, \"*\")"
      ],
      "text/plain": [
       "<IPython.core.display.Javascript object>"
      ]
     },
     "metadata": {},
     "output_type": "display_data"
    },
    {
     "data": {
      "text/markdown": [
       "<span style=\"color:#33cc33\">Correct</span>"
      ],
      "text/plain": [
       "Correct"
      ]
     },
     "metadata": {},
     "output_type": "display_data"
    }
   ],
   "source": [
    "predictions = iowa_model.predict(X)\n",
    "print(predictions)\n",
    "\n",
    "# Check your answer\n",
    "step_4.check()"
   ]
  },
  {
   "cell_type": "code",
   "execution_count": 11,
   "id": "91ff7bcb",
   "metadata": {
    "execution": {
     "iopub.execute_input": "2022-11-18T18:15:29.102716Z",
     "iopub.status.busy": "2022-11-18T18:15:29.102418Z",
     "iopub.status.idle": "2022-11-18T18:15:29.105281Z",
     "shell.execute_reply": "2022-11-18T18:15:29.104641Z"
    },
    "papermill": {
     "duration": 0.011311,
     "end_time": "2022-11-18T18:15:29.107199",
     "exception": false,
     "start_time": "2022-11-18T18:15:29.095888",
     "status": "completed"
    },
    "tags": []
   },
   "outputs": [],
   "source": [
    "# step_4.hint()\n",
    "# step_4.solution()"
   ]
  },
  {
   "cell_type": "markdown",
   "id": "8deaadfc",
   "metadata": {
    "papermill": {
     "duration": 0.005044,
     "end_time": "2022-11-18T18:15:29.117566",
     "exception": false,
     "start_time": "2022-11-18T18:15:29.112522",
     "status": "completed"
    },
    "tags": []
   },
   "source": [
    "## Think About Your Results\n",
    "\n",
    "Use the `head` method to compare the top few predictions to the actual home values (in `y`) for those same homes. Anything surprising?\n"
   ]
  },
  {
   "cell_type": "code",
   "execution_count": 12,
   "id": "dce7ccb3",
   "metadata": {
    "execution": {
     "iopub.execute_input": "2022-11-18T18:15:29.130019Z",
     "iopub.status.busy": "2022-11-18T18:15:29.129697Z",
     "iopub.status.idle": "2022-11-18T18:15:29.136362Z",
     "shell.execute_reply": "2022-11-18T18:15:29.135410Z"
    },
    "papermill": {
     "duration": 0.015664,
     "end_time": "2022-11-18T18:15:29.138575",
     "exception": false,
     "start_time": "2022-11-18T18:15:29.122911",
     "status": "completed"
    },
    "tags": []
   },
   "outputs": [
    {
     "data": {
      "text/plain": [
       "0    208500\n",
       "1    181500\n",
       "2    223500\n",
       "3    140000\n",
       "4    250000\n",
       "Name: SalePrice, dtype: int64"
      ]
     },
     "execution_count": 12,
     "metadata": {},
     "output_type": "execute_result"
    }
   ],
   "source": [
    "# You can write code in this cell\n",
    "y.head()"
   ]
  },
  {
   "cell_type": "markdown",
   "id": "57315265",
   "metadata": {
    "papermill": {
     "duration": 0.0054,
     "end_time": "2022-11-18T18:15:29.149368",
     "exception": false,
     "start_time": "2022-11-18T18:15:29.143968",
     "status": "completed"
    },
    "tags": []
   },
   "source": [
    "It's natural to ask how accurate the model's predictions will be and how you can improve that. That will be you're next step.\n",
    "\n",
    "# Keep Going\n",
    "\n",
    "You are ready for **[Model Validation](https://www.kaggle.com/dansbecker/model-validation).**\n"
   ]
  },
  {
   "cell_type": "markdown",
   "id": "e07b0ab6",
   "metadata": {
    "papermill": {
     "duration": 0.005569,
     "end_time": "2022-11-18T18:15:29.160692",
     "exception": false,
     "start_time": "2022-11-18T18:15:29.155123",
     "status": "completed"
    },
    "tags": []
   },
   "source": [
    "---\n",
    "\n",
    "\n",
    "\n",
    "\n",
    "*Have questions or comments? Visit the [course discussion forum](https://www.kaggle.com/learn/intro-to-machine-learning/discussion) to chat with other learners.*"
   ]
  }
 ],
 "metadata": {
  "kernelspec": {
   "display_name": "Python 3",
   "language": "python",
   "name": "python3"
  },
  "language_info": {
   "codemirror_mode": {
    "name": "ipython",
    "version": 3
   },
   "file_extension": ".py",
   "mimetype": "text/x-python",
   "name": "python",
   "nbconvert_exporter": "python",
   "pygments_lexer": "ipython3",
   "version": "3.7.12"
  },
  "papermill": {
   "default_parameters": {},
   "duration": 9.601499,
   "end_time": "2022-11-18T18:15:29.787298",
   "environment_variables": {},
   "exception": null,
   "input_path": "__notebook__.ipynb",
   "output_path": "__notebook__.ipynb",
   "parameters": {},
   "start_time": "2022-11-18T18:15:20.185799",
   "version": "2.3.4"
  }
 },
 "nbformat": 4,
 "nbformat_minor": 5
}
