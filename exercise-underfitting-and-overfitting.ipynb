{
 "cells": [
  {
   "cell_type": "markdown",
   "id": "27761adb",
   "metadata": {
    "papermill": {
     "duration": 0.003866,
     "end_time": "2022-11-20T13:15:04.479850",
     "exception": false,
     "start_time": "2022-11-20T13:15:04.475984",
     "status": "completed"
    },
    "tags": []
   },
   "source": [
    "**This notebook is an exercise in the [Introduction to Machine Learning](https://www.kaggle.com/learn/intro-to-machine-learning) course.  You can reference the tutorial at [this link](https://www.kaggle.com/dansbecker/underfitting-and-overfitting).**\n",
    "\n",
    "---\n"
   ]
  },
  {
   "cell_type": "markdown",
   "id": "09b3a0f2",
   "metadata": {
    "papermill": {
     "duration": 0.002798,
     "end_time": "2022-11-20T13:15:04.485885",
     "exception": false,
     "start_time": "2022-11-20T13:15:04.483087",
     "status": "completed"
    },
    "tags": []
   },
   "source": [
    "## Recap\n",
    "You've built your first model, and now it's time to optimize the size of the tree to make better predictions. Run this cell to set up your coding environment where the previous step left off."
   ]
  },
  {
   "cell_type": "code",
   "execution_count": 1,
   "id": "4ada7dac",
   "metadata": {
    "execution": {
     "iopub.execute_input": "2022-11-20T13:15:04.494162Z",
     "iopub.status.busy": "2022-11-20T13:15:04.493457Z",
     "iopub.status.idle": "2022-11-20T13:15:05.827703Z",
     "shell.execute_reply": "2022-11-20T13:15:05.826727Z"
    },
    "papermill": {
     "duration": 1.341677,
     "end_time": "2022-11-20T13:15:05.830528",
     "exception": false,
     "start_time": "2022-11-20T13:15:04.488851",
     "status": "completed"
    },
    "tags": []
   },
   "outputs": [
    {
     "name": "stdout",
     "output_type": "stream",
     "text": [
      "Validation MAE: 29,653\n",
      "\n",
      "Setup complete\n"
     ]
    }
   ],
   "source": [
    "# Code you have previously used to load data\n",
    "import pandas as pd\n",
    "from sklearn.metrics import mean_absolute_error\n",
    "from sklearn.model_selection import train_test_split\n",
    "from sklearn.tree import DecisionTreeRegressor\n",
    "\n",
    "\n",
    "# Path of the file to read\n",
    "iowa_file_path = '../input/home-data-for-ml-course/train.csv'\n",
    "\n",
    "home_data = pd.read_csv(iowa_file_path)\n",
    "# Create target object and call it y\n",
    "y = home_data.SalePrice\n",
    "# Create X\n",
    "features = ['LotArea', 'YearBuilt', '1stFlrSF', '2ndFlrSF', 'FullBath', 'BedroomAbvGr', 'TotRmsAbvGrd']\n",
    "X = home_data[features]\n",
    "\n",
    "# Split into validation and training data\n",
    "train_X, val_X, train_y, val_y = train_test_split(X, y, random_state=1)\n",
    "\n",
    "# Specify Model\n",
    "iowa_model = DecisionTreeRegressor(random_state=1)\n",
    "# Fit Model\n",
    "iowa_model.fit(train_X, train_y)\n",
    "\n",
    "# Make validation predictions and calculate mean absolute error\n",
    "val_predictions = iowa_model.predict(val_X)\n",
    "val_mae = mean_absolute_error(val_predictions, val_y)\n",
    "print(\"Validation MAE: {:,.0f}\".format(val_mae))\n",
    "\n",
    "# Set up code checking\n",
    "from learntools.core import binder\n",
    "binder.bind(globals())\n",
    "from learntools.machine_learning.ex5 import *\n",
    "print(\"\\nSetup complete\")"
   ]
  },
  {
   "cell_type": "markdown",
   "id": "b04c1451",
   "metadata": {
    "papermill": {
     "duration": 0.002813,
     "end_time": "2022-11-20T13:15:05.837012",
     "exception": false,
     "start_time": "2022-11-20T13:15:05.834199",
     "status": "completed"
    },
    "tags": []
   },
   "source": [
    "# Exercises\n",
    "You could write the function `get_mae` yourself. For now, we'll supply it. This is the same function you read about in the previous lesson. Just run the cell below."
   ]
  },
  {
   "cell_type": "code",
   "execution_count": 2,
   "id": "9deebce1",
   "metadata": {
    "execution": {
     "iopub.execute_input": "2022-11-20T13:15:05.845112Z",
     "iopub.status.busy": "2022-11-20T13:15:05.844153Z",
     "iopub.status.idle": "2022-11-20T13:15:05.849939Z",
     "shell.execute_reply": "2022-11-20T13:15:05.849170Z"
    },
    "papermill": {
     "duration": 0.011764,
     "end_time": "2022-11-20T13:15:05.851751",
     "exception": false,
     "start_time": "2022-11-20T13:15:05.839987",
     "status": "completed"
    },
    "tags": []
   },
   "outputs": [],
   "source": [
    "def get_mae(max_leaf_nodes, train_X, val_X, train_y, val_y):\n",
    "    model = DecisionTreeRegressor(max_leaf_nodes=max_leaf_nodes, random_state=0)\n",
    "    model.fit(train_X, train_y)\n",
    "    preds_val = model.predict(val_X)\n",
    "    mae = mean_absolute_error(val_y, preds_val)\n",
    "    return(mae)"
   ]
  },
  {
   "cell_type": "markdown",
   "id": "f6f9589f",
   "metadata": {
    "papermill": {
     "duration": 0.002826,
     "end_time": "2022-11-20T13:15:05.857900",
     "exception": false,
     "start_time": "2022-11-20T13:15:05.855074",
     "status": "completed"
    },
    "tags": []
   },
   "source": [
    "## Step 1: Compare Different Tree Sizes\n",
    "Write a loop that tries the following values for *max_leaf_nodes* from a set of possible values.\n",
    "\n",
    "Call the *get_mae* function on each value of max_leaf_nodes. Store the output in some way that allows you to select the value of `max_leaf_nodes` that gives the most accurate model on your data."
   ]
  },
  {
   "cell_type": "code",
   "execution_count": 3,
   "id": "d109e4ae",
   "metadata": {
    "execution": {
     "iopub.execute_input": "2022-11-20T13:15:05.865547Z",
     "iopub.status.busy": "2022-11-20T13:15:05.865149Z",
     "iopub.status.idle": "2022-11-20T13:15:05.907548Z",
     "shell.execute_reply": "2022-11-20T13:15:05.906460Z"
    },
    "papermill": {
     "duration": 0.048527,
     "end_time": "2022-11-20T13:15:05.909487",
     "exception": false,
     "start_time": "2022-11-20T13:15:05.860960",
     "status": "completed"
    },
    "tags": []
   },
   "outputs": [
    {
     "name": "stdout",
     "output_type": "stream",
     "text": [
      "Max leaf nodes: 5 \t\t Mean Absolute Error: 35044\n",
      "Max leaf nodes: 25 \t\t Mean Absolute Error: 29016\n",
      "Max leaf nodes: 50 \t\t Mean Absolute Error: 27405\n",
      "Max leaf nodes: 100 \t\t Mean Absolute Error: 27282\n",
      "Max leaf nodes: 250 \t\t Mean Absolute Error: 27893\n",
      "Max leaf nodes: 500 \t\t Mean Absolute Error: 29454\n"
     ]
    },
    {
     "data": {
      "application/javascript": [
       "parent.postMessage({\"jupyterEvent\": \"custom.exercise_interaction\", \"data\": {\"outcomeType\": 1, \"valueTowardsCompletion\": 0.5, \"interactionType\": 1, \"questionType\": 1, \"questionId\": \"1_BestTreeSize\", \"learnToolsVersion\": \"0.3.4\", \"failureMessage\": \"\", \"exceptionClass\": \"\", \"trace\": \"\"}}, \"*\")"
      ],
      "text/plain": [
       "<IPython.core.display.Javascript object>"
      ]
     },
     "metadata": {},
     "output_type": "display_data"
    },
    {
     "data": {
      "text/markdown": [
       "<span style=\"color:#33cc33\">Correct</span>"
      ],
      "text/plain": [
       "Correct"
      ]
     },
     "metadata": {},
     "output_type": "display_data"
    }
   ],
   "source": [
    "candidate_max_leaf_nodes = [5, 25, 50, 100, 250, 500]\n",
    "# Write loop to find the ideal tree size from candidate_max_leaf_nodes\n",
    "for max_leaf_nodes in candidate_max_leaf_nodes:\n",
    "    my_mae=get_mae(max_leaf_nodes,train_X,val_X,train_y,val_y)\n",
    "    print(\"Max leaf nodes: %d \\t\\t Mean Absolute Error: %d\" %(max_leaf_nodes, my_mae))\n",
    "\n",
    "# Store the best value of max_leaf_nodes (it will be either 5, 25, 50, 100, 250 or 500)\n",
    "best_tree_size = 100\n",
    "\n",
    "# Check your answer\n",
    "step_1.check()"
   ]
  },
  {
   "cell_type": "code",
   "execution_count": 4,
   "id": "6a52d327",
   "metadata": {
    "execution": {
     "iopub.execute_input": "2022-11-20T13:15:05.917950Z",
     "iopub.status.busy": "2022-11-20T13:15:05.917062Z",
     "iopub.status.idle": "2022-11-20T13:15:05.923114Z",
     "shell.execute_reply": "2022-11-20T13:15:05.921858Z"
    },
    "papermill": {
     "duration": 0.01262,
     "end_time": "2022-11-20T13:15:05.925469",
     "exception": false,
     "start_time": "2022-11-20T13:15:05.912849",
     "status": "completed"
    },
    "tags": []
   },
   "outputs": [],
   "source": [
    "# The lines below will show you a hint or the solution.\n",
    "# step_1.hint() \n",
    "# step_1.solution()"
   ]
  },
  {
   "cell_type": "markdown",
   "id": "8da32470",
   "metadata": {
    "papermill": {
     "duration": 0.003254,
     "end_time": "2022-11-20T13:15:05.932861",
     "exception": false,
     "start_time": "2022-11-20T13:15:05.929607",
     "status": "completed"
    },
    "tags": []
   },
   "source": [
    "## Step 2: Fit Model Using All Data\n",
    "You know the best tree size. If you were going to deploy this model in practice, you would make it even more accurate by using all of the data and keeping that tree size.  That is, you don't need to hold out the validation data now that you've made all your modeling decisions."
   ]
  },
  {
   "cell_type": "code",
   "execution_count": 5,
   "id": "00aaf57d",
   "metadata": {
    "execution": {
     "iopub.execute_input": "2022-11-20T13:15:05.941321Z",
     "iopub.status.busy": "2022-11-20T13:15:05.940911Z",
     "iopub.status.idle": "2022-11-20T13:15:05.957195Z",
     "shell.execute_reply": "2022-11-20T13:15:05.956058Z"
    },
    "papermill": {
     "duration": 0.022883,
     "end_time": "2022-11-20T13:15:05.959119",
     "exception": false,
     "start_time": "2022-11-20T13:15:05.936236",
     "status": "completed"
    },
    "tags": []
   },
   "outputs": [
    {
     "data": {
      "application/javascript": [
       "parent.postMessage({\"jupyterEvent\": \"custom.exercise_interaction\", \"data\": {\"outcomeType\": 1, \"valueTowardsCompletion\": 0.5, \"interactionType\": 1, \"questionType\": 2, \"questionId\": \"2_FitModelWithAllData\", \"learnToolsVersion\": \"0.3.4\", \"failureMessage\": \"\", \"exceptionClass\": \"\", \"trace\": \"\"}}, \"*\")"
      ],
      "text/plain": [
       "<IPython.core.display.Javascript object>"
      ]
     },
     "metadata": {},
     "output_type": "display_data"
    },
    {
     "data": {
      "text/markdown": [
       "<span style=\"color:#33cc33\">Correct</span>"
      ],
      "text/plain": [
       "Correct"
      ]
     },
     "metadata": {},
     "output_type": "display_data"
    }
   ],
   "source": [
    "# Fill in argument to make optimal size and uncomment\n",
    "final_model = DecisionTreeRegressor(max_leaf_nodes=best_tree_size,random_state=0)\n",
    "\n",
    "# fit the final model and uncomment the next two lines\n",
    "final_model.fit(X, y)\n",
    "\n",
    "# Check your answer\n",
    "step_2.check()"
   ]
  },
  {
   "cell_type": "code",
   "execution_count": 6,
   "id": "5a361563",
   "metadata": {
    "execution": {
     "iopub.execute_input": "2022-11-20T13:15:05.967810Z",
     "iopub.status.busy": "2022-11-20T13:15:05.967426Z",
     "iopub.status.idle": "2022-11-20T13:15:05.972171Z",
     "shell.execute_reply": "2022-11-20T13:15:05.971205Z"
    },
    "papermill": {
     "duration": 0.011161,
     "end_time": "2022-11-20T13:15:05.974056",
     "exception": false,
     "start_time": "2022-11-20T13:15:05.962895",
     "status": "completed"
    },
    "tags": []
   },
   "outputs": [],
   "source": [
    "# step_2.hint()\n",
    "# step_2.solution()"
   ]
  },
  {
   "cell_type": "markdown",
   "id": "316d242d",
   "metadata": {
    "papermill": {
     "duration": 0.00325,
     "end_time": "2022-11-20T13:15:05.981165",
     "exception": false,
     "start_time": "2022-11-20T13:15:05.977915",
     "status": "completed"
    },
    "tags": []
   },
   "source": [
    "You've tuned this model and improved your results. But we are still using Decision Tree models, which are not very sophisticated by modern machine learning standards. In the next step you will learn to use Random Forests to improve your models even more.\n",
    "\n",
    "# Keep Going\n",
    "\n",
    "You are ready for **[Random Forests](https://www.kaggle.com/dansbecker/random-forests).**\n"
   ]
  },
  {
   "cell_type": "markdown",
   "id": "7b5e271e",
   "metadata": {
    "papermill": {
     "duration": 0.003197,
     "end_time": "2022-11-20T13:15:05.987827",
     "exception": false,
     "start_time": "2022-11-20T13:15:05.984630",
     "status": "completed"
    },
    "tags": []
   },
   "source": [
    "---\n",
    "\n",
    "\n",
    "\n",
    "\n",
    "*Have questions or comments? Visit the [course discussion forum](https://www.kaggle.com/learn/intro-to-machine-learning/discussion) to chat with other learners.*"
   ]
  }
 ],
 "metadata": {
  "kernelspec": {
   "display_name": "Python 3",
   "language": "python",
   "name": "python3"
  },
  "language_info": {
   "codemirror_mode": {
    "name": "ipython",
    "version": 3
   },
   "file_extension": ".py",
   "mimetype": "text/x-python",
   "name": "python",
   "nbconvert_exporter": "python",
   "pygments_lexer": "ipython3",
   "version": "3.7.12"
  },
  "papermill": {
   "default_parameters": {},
   "duration": 9.55432,
   "end_time": "2022-11-20T13:15:06.712416",
   "environment_variables": {},
   "exception": null,
   "input_path": "__notebook__.ipynb",
   "output_path": "__notebook__.ipynb",
   "parameters": {},
   "start_time": "2022-11-20T13:14:57.158096",
   "version": "2.3.4"
  }
 },
 "nbformat": 4,
 "nbformat_minor": 5
}
